{
 "cells": [
  {
   "cell_type": "code",
   "execution_count": 1,
   "metadata": {},
   "outputs": [],
   "source": [
    "import pandas as pd\n",
    "import pylab as pl\n",
    "import matplotlib.pyplot as plt"
   ]
  },
  {
   "cell_type": "code",
   "execution_count": 7,
   "metadata": {},
   "outputs": [
    {
     "data": {
      "text/html": [
       "<div>\n",
       "<style scoped>\n",
       "    .dataframe tbody tr th:only-of-type {\n",
       "        vertical-align: middle;\n",
       "    }\n",
       "\n",
       "    .dataframe tbody tr th {\n",
       "        vertical-align: top;\n",
       "    }\n",
       "\n",
       "    .dataframe thead th {\n",
       "        text-align: right;\n",
       "    }\n",
       "</style>\n",
       "<table border=\"1\" class=\"dataframe\">\n",
       "  <thead>\n",
       "    <tr style=\"text-align: right;\">\n",
       "      <th></th>\n",
       "      <th>Country Name</th>\n",
       "      <th>Country ISO3</th>\n",
       "      <th>Year</th>\n",
       "      <th>Indicator Name</th>\n",
       "      <th>Indicator Code</th>\n",
       "      <th>Value</th>\n",
       "    </tr>\n",
       "  </thead>\n",
       "  <tbody>\n",
       "    <tr>\n",
       "      <th>0</th>\n",
       "      <td>#country+name</td>\n",
       "      <td>#country+code</td>\n",
       "      <td>#date+year</td>\n",
       "      <td>#indicator+name</td>\n",
       "      <td>#indicator+code</td>\n",
       "      <td>#indicator+value+num</td>\n",
       "    </tr>\n",
       "    <tr>\n",
       "      <th>1</th>\n",
       "      <td>India</td>\n",
       "      <td>IND</td>\n",
       "      <td>2018</td>\n",
       "      <td>Trade in services (% of GDP)</td>\n",
       "      <td>BG.GSR.NFSV.GD.ZS</td>\n",
       "      <td>12.1062747399821</td>\n",
       "    </tr>\n",
       "    <tr>\n",
       "      <th>2</th>\n",
       "      <td>India</td>\n",
       "      <td>IND</td>\n",
       "      <td>2017</td>\n",
       "      <td>Trade in services (% of GDP)</td>\n",
       "      <td>BG.GSR.NFSV.GD.ZS</td>\n",
       "      <td>11.1100367487747</td>\n",
       "    </tr>\n",
       "    <tr>\n",
       "      <th>3</th>\n",
       "      <td>India</td>\n",
       "      <td>IND</td>\n",
       "      <td>2016</td>\n",
       "      <td>Trade in services (% of GDP)</td>\n",
       "      <td>BG.GSR.NFSV.GD.ZS</td>\n",
       "      <td>11.2529520365932</td>\n",
       "    </tr>\n",
       "    <tr>\n",
       "      <th>4</th>\n",
       "      <td>India</td>\n",
       "      <td>IND</td>\n",
       "      <td>2015</td>\n",
       "      <td>Trade in services (% of GDP)</td>\n",
       "      <td>BG.GSR.NFSV.GD.ZS</td>\n",
       "      <td>11.3577987120546</td>\n",
       "    </tr>\n",
       "  </tbody>\n",
       "</table>\n",
       "</div>"
      ],
      "text/plain": [
       "    Country Name   Country ISO3        Year                Indicator Name  \\\n",
       "0  #country+name  #country+code  #date+year               #indicator+name   \n",
       "1          India            IND        2018  Trade in services (% of GDP)   \n",
       "2          India            IND        2017  Trade in services (% of GDP)   \n",
       "3          India            IND        2016  Trade in services (% of GDP)   \n",
       "4          India            IND        2015  Trade in services (% of GDP)   \n",
       "\n",
       "      Indicator Code                 Value  \n",
       "0    #indicator+code  #indicator+value+num  \n",
       "1  BG.GSR.NFSV.GD.ZS      12.1062747399821  \n",
       "2  BG.GSR.NFSV.GD.ZS      11.1100367487747  \n",
       "3  BG.GSR.NFSV.GD.ZS      11.2529520365932  \n",
       "4  BG.GSR.NFSV.GD.ZS      11.3577987120546  "
      ]
     },
     "execution_count": 7,
     "metadata": {},
     "output_type": "execute_result"
    }
   ],
   "source": [
    "df=pd.read_csv('private-sector_ind.csv')\n",
    "df.head()\n",
    "df.loc[df['Indicator Name']=='Start-up procedures to register a business (number)']"
   ]
  },
  {
   "cell_type": "code",
   "execution_count": null,
   "metadata": {},
   "outputs": [],
   "source": []
  }
 ],
 "metadata": {
  "kernelspec": {
   "display_name": "Python 3",
   "language": "python",
   "name": "python3"
  },
  "language_info": {
   "codemirror_mode": {
    "name": "ipython",
    "version": 3
   },
   "file_extension": ".py",
   "mimetype": "text/x-python",
   "name": "python",
   "nbconvert_exporter": "python",
   "pygments_lexer": "ipython3",
   "version": "3.8.1"
  }
 },
 "nbformat": 4,
 "nbformat_minor": 4
}
